{
 "cells": [
  {
   "cell_type": "code",
   "execution_count": 3,
   "id": "4a79d872",
   "metadata": {},
   "outputs": [
    {
     "name": "stderr",
     "output_type": "stream",
     "text": [
      "\u001b[32m\u001b[1m   Resolving\u001b[22m\u001b[39m package versions...\n",
      "\u001b[32m\u001b[1m  No Changes\u001b[22m\u001b[39m to `C:\\Users\\markc\\.julia\\environments\\v1.8\\Project.toml`\n",
      "\u001b[32m\u001b[1m  No Changes\u001b[22m\u001b[39m to `C:\\Users\\markc\\.julia\\environments\\v1.8\\Manifest.toml`\n",
      "\u001b[32m\u001b[1m   Resolving\u001b[22m\u001b[39m package versions...\n",
      "\u001b[32m\u001b[1m   Installed\u001b[22m\u001b[39m OpenBLAS32_jll ─ v0.3.17+0\n",
      "\u001b[32m\u001b[1m   Installed\u001b[22m\u001b[39m ASL_jll ──────── v0.1.3+0\n",
      "\u001b[32m\u001b[1m   Installed\u001b[22m\u001b[39m METIS_jll ────── v5.1.2+0\n",
      "\u001b[32m\u001b[1m   Installed\u001b[22m\u001b[39m MUMPS_seq_jll ── v500.500.101+0\n",
      "\u001b[32m\u001b[1m   Installed\u001b[22m\u001b[39m Ipopt_jll ────── v300.1400.1000+0\n",
      "\u001b[32m\u001b[1m   Installed\u001b[22m\u001b[39m Ipopt ────────── v1.2.1\n",
      "\u001b[32m\u001b[1m    Updating\u001b[22m\u001b[39m `C:\\Users\\markc\\.julia\\environments\\v1.8\\Project.toml`\n",
      " \u001b[90m [b6b21f68] \u001b[39m\u001b[92m+ Ipopt v1.2.1\u001b[39m\n",
      "\u001b[32m\u001b[1m    Updating\u001b[22m\u001b[39m `C:\\Users\\markc\\.julia\\environments\\v1.8\\Manifest.toml`\n",
      " \u001b[90m [b6b21f68] \u001b[39m\u001b[92m+ Ipopt v1.2.1\u001b[39m\n",
      " \u001b[90m [ae81ac8f] \u001b[39m\u001b[92m+ ASL_jll v0.1.3+0\u001b[39m\n",
      " \u001b[90m [9cc047cb] \u001b[39m\u001b[92m+ Ipopt_jll v300.1400.1000+0\u001b[39m\n",
      " \u001b[90m [d00139f3] \u001b[39m\u001b[92m+ METIS_jll v5.1.2+0\u001b[39m\n",
      " \u001b[90m [d7ed1dd3] \u001b[39m\u001b[92m+ MUMPS_seq_jll v500.500.101+0\u001b[39m\n",
      "\u001b[33m⌅\u001b[39m\u001b[90m [656ef2d0] \u001b[39m\u001b[92m+ OpenBLAS32_jll v0.3.17+0\u001b[39m\n",
      "\u001b[36m\u001b[1m        Info\u001b[22m\u001b[39m Packages marked with \u001b[33m⌅\u001b[39m have new versions available but compatibility constraints restrict them from upgrading. To see why use `status --outdated -m`\n",
      "\u001b[32m\u001b[1mPrecompiling\u001b[22m\u001b[39m project...\n",
      "\u001b[32m  ✓ \u001b[39m\u001b[90mASL_jll\u001b[39m\n",
      "\u001b[32m  ✓ \u001b[39m\u001b[90mMETIS_jll\u001b[39m\n",
      "\u001b[32m  ✓ \u001b[39m\u001b[90mOpenBLAS32_jll\u001b[39m\n",
      "\u001b[32m  ✓ \u001b[39m\u001b[90mMUMPS_seq_jll\u001b[39m\n",
      "\u001b[32m  ✓ \u001b[39m\u001b[90mIpopt_jll\u001b[39m\n",
      "\u001b[32m  ✓ \u001b[39mIpopt\n",
      "  6 dependencies successfully precompiled in 12 seconds. 140 already precompiled.\n"
     ]
    }
   ],
   "source": [
    "import Pkg\n",
    "Pkg.add(\"JuMP\")\n",
    "Pkg.add(\"Ipopt\")\n",
    "\n",
    "using JuMP, Ipopt"
   ]
  },
  {
   "cell_type": "code",
   "execution_count": 4,
   "id": "43953593",
   "metadata": {},
   "outputs": [
    {
     "data": {
      "text/plain": [
       "A JuMP Model\n",
       "Feasibility problem with:\n",
       "Variables: 0\n",
       "Model mode: AUTOMATIC\n",
       "CachingOptimizer state: EMPTY_OPTIMIZER\n",
       "Solver name: Ipopt"
      ]
     },
     "execution_count": 4,
     "metadata": {},
     "output_type": "execute_result"
    }
   ],
   "source": [
    "# Define problem data\n",
    "n = 10 # number of nodes\n",
    "x = [1:n] # x-coordinates of nodes\n",
    "y = rand(n) # y-coordinates of nodes\n",
    "\n",
    "# Create JuMP model\n",
    "m = Model(optimizer_with_attributes(Ipopt.Optimizer, \"print_level\" => 0))"
   ]
  },
  {
   "cell_type": "code",
   "execution_count": 5,
   "id": "fc4e7403",
   "metadata": {},
   "outputs": [
    {
     "data": {
      "text/plain": [
       "10-element Vector{VariableRef}:\n",
       " y[1]\n",
       " y[2]\n",
       " y[3]\n",
       " y[4]\n",
       " y[5]\n",
       " y[6]\n",
       " y[7]\n",
       " y[8]\n",
       " y[9]\n",
       " y[10]"
      ]
     },
     "execution_count": 5,
     "metadata": {},
     "output_type": "execute_result"
    }
   ],
   "source": [
    "# Define optimization variable\n",
    "@variable(m, x[i=1:n]) # x-coordinates of nodes to be optimized\n",
    "@variable(m, y[i=1:n]) # y-coordinates of nodes to be optimized"
   ]
  },
  {
   "cell_type": "code",
   "execution_count": 7,
   "id": "681171a0",
   "metadata": {},
   "outputs": [
    {
     "data": {
      "text/latex": [
       "$$ 18 x_{1}^2 - 4 x_{1}\\times x_{2} + 18 x_{2}^2 + 18 y_{1}^2 - 4 y_{1}\\times y_{2} + 18 y_{2}^2 - 4 x_{1}\\times x_{3} + 18 x_{3}^2 - 4 y_{1}\\times y_{3} + 18 y_{3}^2 - 4 x_{1}\\times x_{4} + 18 x_{4}^2 - 4 y_{1}\\times y_{4} + 18 y_{4}^2 - 4 x_{1}\\times x_{5} + 18 x_{5}^2 - 4 y_{1}\\times y_{5} + 18 y_{5}^2 - 4 x_{1}\\times x_{6} + 18 x_{6}^2 - 4 y_{1}\\times y_{6} + 18 y_{6}^2 - 4 x_{1}\\times x_{7} + 18 x_{7}^2 - 4 y_{1}\\times y_{7} + 18 y_{7}^2 - 4 x_{1}\\times x_{8} + 18 x_{8}^2 - 4 y_{1}\\times y_{8} + 18 y_{8}^2 - 4 x_{1}\\times x_{9} + 18 x_{9}^2 - 4 y_{1}\\times y_{9} + 18 y_{9}^2 - 4 x_{1}\\times x_{10} + 18 x_{10}^2 - 4 y_{1}\\times y_{10} + 18 y_{10}^2 - 4 x_{2}\\times x_{3} - 4 y_{2}\\times y_{3} - 4 x_{2}\\times x_{4} - 4 y_{2}\\times y_{4} - 4 x_{2}\\times x_{5} - 4 y_{2}\\times y_{5} - 4 x_{2}\\times x_{6} - 4 y_{2}\\times y_{6} - 4 x_{2}\\times x_{7} - 4 y_{2}\\times y_{7} - 4 x_{2}\\times x_{8} - 4 y_{2}\\times y_{8} - 4 x_{2}\\times x_{9} - 4 y_{2}\\times y_{9} - 4 x_{2}\\times x_{10} - 4 y_{2}\\times y_{10} - 4 x_{3}\\times x_{4} - 4 y_{3}\\times y_{4} - 4 x_{3}\\times x_{5} - 4 y_{3}\\times y_{5} - 4 x_{3}\\times x_{6} - 4 y_{3}\\times y_{6} - 4 x_{3}\\times x_{7} - 4 y_{3}\\times y_{7} - 4 x_{3}\\times x_{8} - 4 y_{3}\\times y_{8} - 4 x_{3}\\times x_{9} - 4 y_{3}\\times y_{9} - 4 x_{3}\\times x_{10} - 4 y_{3}\\times y_{10} - 4 x_{4}\\times x_{5} - 4 y_{4}\\times y_{5} - 4 x_{4}\\times x_{6} - 4 y_{4}\\times y_{6} - 4 x_{4}\\times x_{7} - 4 y_{4}\\times y_{7} - 4 x_{4}\\times x_{8} - 4 y_{4}\\times y_{8} - 4 x_{4}\\times x_{9} - 4 y_{4}\\times y_{9} - 4 x_{4}\\times x_{10} - 4 y_{4}\\times y_{10} - 4 x_{5}\\times x_{6} - 4 y_{5}\\times y_{6} - 4 x_{5}\\times x_{7} - 4 y_{5}\\times y_{7} - 4 x_{5}\\times x_{8} - 4 y_{5}\\times y_{8} - 4 x_{5}\\times x_{9} - 4 y_{5}\\times y_{9} - 4 x_{5}\\times x_{10} - 4 y_{5}\\times y_{10} - 4 x_{6}\\times x_{7} - 4 y_{6}\\times y_{7} - 4 x_{6}\\times x_{8} - 4 y_{6}\\times y_{8} - 4 x_{6}\\times x_{9} - 4 y_{6}\\times y_{9} - 4 x_{6}\\times x_{10} - 4 y_{6}\\times y_{10} - 4 x_{7}\\times x_{8} - 4 y_{7}\\times y_{8} - 4 x_{7}\\times x_{9} - 4 y_{7}\\times y_{9} - 4 x_{7}\\times x_{10} - 4 y_{7}\\times y_{10} - 4 x_{8}\\times x_{9} - 4 y_{8}\\times y_{9} - 4 x_{8}\\times x_{10} - 4 y_{8}\\times y_{10} - 4 x_{9}\\times x_{10} - 4 y_{9}\\times y_{10} $$"
      ],
      "text/plain": [
       "18 x[1]² - 4 x[1]*x[2] + 18 x[2]² + 18 y[1]² - 4 y[1]*y[2] + 18 y[2]² - 4 x[1]*x[3] + 18 x[3]² - 4 y[1]*y[3] + 18 y[3]² - 4 x[1]*x[4] + 18 x[4]² - 4 y[1]*y[4] + 18 y[4]² - 4 x[1]*x[5] + 18 x[5]² - 4 y[1]*y[5] + 18 y[5]² - 4 x[1]*x[6] + 18 x[6]² - 4 y[1]*y[6] + 18 y[6]² - 4 x[1]*x[7] + 18 x[7]² - 4 y[1]*y[7] + 18 y[7]² - 4 x[1]*x[8] + 18 x[8]² - 4 y[1]*y[8] + 18 y[8]² - 4 x[1]*x[9] + 18 x[9]² - 4 y[1]*y[9] + 18 y[9]² - 4 x[1]*x[10] + 18 x[10]² - 4 y[1]*y[10] + 18 y[10]² - 4 x[2]*x[3] - 4 y[2]*y[3] - 4 x[2]*x[4] - 4 y[2]*y[4] - 4 x[2]*x[5] - 4 y[2]*y[5] - 4 x[2]*x[6] - 4 y[2]*y[6] - 4 x[2]*x[7] - 4 y[2]*y[7] - 4 x[2]*x[8] - 4 y[2]*y[8] - 4 x[2]*x[9] - 4 y[2]*y[9] - 4 x[2]*x[10] - 4 y[2]*y[10] - 4 x[3]*x[4] - 4 y[3]*y[4] - 4 x[3]*x[5] - 4 y[3]*y[5] - 4 x[3]*x[6] - 4 y[3]*y[6] - 4 x[3]*x[7] - 4 y[3]*y[7] - 4 x[3]*x[8] - 4 y[3]*y[8] - 4 x[3]*x[9] - 4 y[3]*y[9] - 4 x[3]*x[10] - 4 y[3]*y[10] - 4 x[4]*x[5] - 4 y[4]*y[5] - 4 x[4]*x[6] - 4 y[4]*y[6] - 4 x[4]*x[7] - 4 y[4]*y[7] - 4 x[4]*x[8] - 4 y[4]*y[8] - 4 x[4]*x[9] - 4 y[4]*y[9] - 4 x[4]*x[10] - 4 y[4]*y[10] - 4 x[5]*x[6] - 4 y[5]*y[6] - 4 x[5]*x[7] - 4 y[5]*y[7] - 4 x[5]*x[8] - 4 y[5]*y[8] - 4 x[5]*x[9] - 4 y[5]*y[9] - 4 x[5]*x[10] - 4 y[5]*y[10] - 4 x[6]*x[7] - 4 y[6]*y[7] - 4 x[6]*x[8] - 4 y[6]*y[8] - 4 x[6]*x[9] - 4 y[6]*y[9] - 4 x[6]*x[10] - 4 y[6]*y[10] - 4 x[7]*x[8] - 4 y[7]*y[8] - 4 x[7]*x[9] - 4 y[7]*y[9] - 4 x[7]*x[10] - 4 y[7]*y[10] - 4 x[8]*x[9] - 4 y[8]*y[9] - 4 x[8]*x[10] - 4 y[8]*y[10] - 4 x[9]*x[10] - 4 y[9]*y[10]"
      ]
     },
     "execution_count": 7,
     "metadata": {},
     "output_type": "execute_result"
    }
   ],
   "source": [
    "# Define objective function\n",
    "@objective(m, Min, sum((x[i]-x[j])^2 + (y[i]-y[j])^2 for i =1:n, j=1:n ))"
   ]
  },
  {
   "cell_type": "code",
   "execution_count": 8,
   "id": "42698d80",
   "metadata": {},
   "outputs": [
    {
     "data": {
      "text/latex": [
       "$$ y_{10} = 1.0 $$"
      ],
      "text/plain": [
       "y[10] == 1.0"
      ]
     },
     "execution_count": 8,
     "metadata": {},
     "output_type": "execute_result"
    }
   ],
   "source": [
    "# Define Constraints\n",
    "@constraint(m, x[1] == 0) #first node must be at (0,0)\n",
    "@constraint(m, y[1] == 0)\n",
    "@constraint(m, x[n] == 1) # last node must be at (1,1)\n",
    "@constraint(m, y[n] == 1)"
   ]
  },
  {
   "cell_type": "code",
   "execution_count": 9,
   "id": "d82a918c",
   "metadata": {},
   "outputs": [
    {
     "name": "stdout",
     "output_type": "stream",
     "text": [
      "\n",
      "******************************************************************************\n",
      "This program contains Ipopt, a library for large-scale nonlinear optimization.\n",
      " Ipopt is released as open source code under the Eclipse Public License (EPL).\n",
      "         For more information visit https://github.com/coin-or/Ipopt\n",
      "******************************************************************************\n",
      "\n"
     ]
    }
   ],
   "source": [
    "optimize!(m)"
   ]
  },
  {
   "cell_type": "code",
   "execution_count": 10,
   "id": "6f8740ec",
   "metadata": {},
   "outputs": [
    {
     "name": "stdout",
     "output_type": "stream",
     "text": [
      "Optimal x-coordinates: [-2.465190328815662e-32, 0.4999999999999998, 0.4999999999999998, 0.4999999999999998, 0.4999999999999998, 0.4999999999999998, 0.4999999999999998, 0.4999999999999998, 0.4999999999999998, 1.0]\n",
      "Optimal y-coordinates: [-2.465190328815662e-32, 0.4999999999999998, 0.4999999999999998, 0.4999999999999998, 0.4999999999999998, 0.4999999999999998, 0.4999999999999998, 0.4999999999999998, 0.4999999999999998, 1.0]\n"
     ]
    }
   ],
   "source": [
    "#Print results\n",
    "println(\"Optimal x-coordinates: \", value.(x))\n",
    "println(\"Optimal y-coordinates: \", value.(y))"
   ]
  },
  {
   "cell_type": "code",
   "execution_count": null,
   "id": "6a251860",
   "metadata": {},
   "outputs": [],
   "source": []
  }
 ],
 "metadata": {
  "kernelspec": {
   "display_name": "Julia 1.8.5",
   "language": "julia",
   "name": "julia-1.8"
  },
  "language_info": {
   "file_extension": ".jl",
   "mimetype": "application/julia",
   "name": "julia",
   "version": "1.8.5"
  }
 },
 "nbformat": 4,
 "nbformat_minor": 5
}
